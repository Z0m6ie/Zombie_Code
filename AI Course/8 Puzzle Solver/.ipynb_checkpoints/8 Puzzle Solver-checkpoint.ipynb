{
 "cells": [
  {
   "cell_type": "markdown",
   "metadata": {},
   "source": [
    "Begin by writing a class to represent the state of the game at a given turn, including parent and child nodes. We suggest writing a separate solver class to work with the state class. Feel free to experiment with your design, for example including a board class to represent the low-level physical configuration of the tiles, delegating the high-level functionality to the state class.\n",
    "\n",
    "\"\"\"\n",
    "DEFINITIONS\n",
    "\n",
    "Initial state: state in which agent starts\n",
    "\n",
    "States s: All states reachable from initial state by any sequence of actions\n",
    "(State space)\n",
    "\n",
    "Actions a: Possible actions available to the agent at current state Actions(s)\n",
    "this is Action space\n",
    "\n",
    "Transitional model: A description of what each action does Results(s,a)\n",
    "\n",
    "Goal Test: determins if a given state is a goal state\n",
    "\n",
    "Path cost: function that assigns a numeric cost to a path w.r.t. performance\n",
    "measure\n",
    "\"\"\"\n",
    "\n",
    "\"\"\"\n",
    "8 TILE GAME\n",
    "States: location of 8 each tiles in 3x3 grid\n",
    "Initial state: Any state\n",
    "Actions: Up, Down, Left, Right\n",
    "Transition model: Given a state and an action, return resulting state\n",
    "Goal test: state matches the goal state?\n",
    "Path cost: Total moves, each move costs 1\n",
    "Expand: function that given a node, creates all children nodes\n",
    "\"\"\""
   ]
  },
  {
   "cell_type": "markdown",
   "metadata": {},
   "source": [
    "\"\"\"\n",
    "BFS Breadth-First-Search\n",
    "\n",
    "def Breadth-First-Search(initialState, goalTest):\n",
    "    frontier = Queue.new(initialState)\n",
    "    explored = Set.new()\n",
    "    while not frontier.isEmpty():\n",
    "        state = frontier.dequeue()\n",
    "        explored.add(state)\n",
    "        if goalTest(state):\n",
    "            return Success(state)\n",
    "        for neighbor in state.neighbors():\n",
    "            if neighbor not in frontier U explored:\n",
    "                frontier.enqueue(state)\n",
    "    return Failure\n",
    "\"\"\"\n",
    "\"\"\"\n",
    "DFS Depth-First-Search\n",
    "\n",
    "def Depth-First-Search(initialState, goalTest):\n",
    "    frontier = Stack.new(initialState)\n",
    "    explored = Set.new()\n",
    "    while not frontier.isEmpty():\n",
    "        state = frontier.pop()\n",
    "        explored.add(state)\n",
    "        if goalTest(state):\n",
    "            return Success(state)\n",
    "        for neighbor in state.neighbors():\n",
    "            if neighbor not in frontier U explored:\n",
    "                frontier.push(state)\n",
    "    return Failure\n",
    "\"\"\""
   ]
  },
  {
   "cell_type": "code",
   "execution_count": 81,
   "metadata": {
    "collapsed": false
   },
   "outputs": [],
   "source": [
    "from collections import deque\n",
    "from math import sqrt\n",
    "import timeit\n",
    "import heapq\n",
    "board = 6,1,8,4,0,2,7,3,5\n",
    "#hard 8,6,7,2,5,4,3,0,1\n",
    "frontier = deque()\n",
    "explored = set()\n",
    "initialstate = list(board)\n",
    "path_to_node = set()\n",
    "h = []\n",
    "\n",
    "moveleft = []\n",
    "moveright = []\n",
    "for i, val in enumerate(board):\n",
    "    if i == 0 or (i % (sqrt(len(board))) == 0):\n",
    "        moveleft.append(i)\n",
    "    if i == 0 or (i % (sqrt(len(board))) == 0):\n",
    "        moveright.append(i-1)\n",
    "        moveright[0] = len(board)-1\n"
   ]
  },
  {
   "cell_type": "code",
   "execution_count": 30,
   "metadata": {
    "collapsed": true
   },
   "outputs": [],
   "source": [
    "class Node:\n",
    "    def __init__( self, state, parent, operator, depth, cost ):\n",
    "        # Contains the current state\n",
    "        self.state = state\n",
    "        # Contains the parent\n",
    "        self.parent = parent\n",
    "        # Contains the direction that generated node from parent\n",
    "        self.operator = operator\n",
    "        # depth of node\n",
    "        self.depth = depth\n",
    "        # path cost of node.\n",
    "        self.cost = cost"
   ]
  },
  {
   "cell_type": "code",
   "execution_count": 31,
   "metadata": {
    "collapsed": true
   },
   "outputs": [],
   "source": [
    "def createnode( state, parent, operator, depth, cost ):\n",
    "    return Node( state, parent, operator, depth, cost )"
   ]
  },
  {
   "cell_type": "code",
   "execution_count": 32,
   "metadata": {
    "collapsed": false
   },
   "outputs": [],
   "source": [
    "def goalTest(state):\n",
    "    goal = sorted(initialstate)\n",
    "    if goal == state:\n",
    "        return 'Success'"
   ]
  },
  {
   "cell_type": "code",
   "execution_count": null,
   "metadata": {
    "collapsed": false
   },
   "outputs": [],
   "source": [
    "# if goalTest(initialstate) == 'Success':\n",
    "#     print (\"Success\")\n",
    "# else:\n",
    "#     explored.add(tuple(initialstate))"
   ]
  },
  {
   "cell_type": "code",
   "execution_count": 33,
   "metadata": {
    "collapsed": false
   },
   "outputs": [],
   "source": [
    "# Move\n",
    "\n",
    "def move(direction, state):\n",
    "    state = list(state)\n",
    "    if direction == 'Up':\n",
    "        a, b = state.index(0), state.index(0)-(int(sqrt(len(board))))\n",
    "        state[b], state[a] = state[a], state[b]\n",
    "    elif direction == 'Down':\n",
    "        x, y = state.index(0), state.index(0)+(int(sqrt(len(board))))\n",
    "        state[y], state[x] = state[x], state[y]\n",
    "    elif direction == 'Left':\n",
    "        state.insert(state.index(0) - 1, state.pop(state.index(0)))\n",
    "    elif direction == 'Right':\n",
    "        state.insert(state.index(0) + 1, state.pop(state.index(0)))\n",
    "    else:\n",
    "        return 'fail'\n",
    "    return state"
   ]
  },
  {
   "cell_type": "code",
   "execution_count": 69,
   "metadata": {
    "collapsed": false
   },
   "outputs": [],
   "source": [
    "#location of hole\n",
    "def possible_moves(recentstate):\n",
    "    holeLoc = recentstate.index(0)\n",
    "    # possible moves\n",
    "    moveOrder = deque()\n",
    "    if holeLoc >= sqrt(len(board)):\n",
    "        moveOrder.append('Up')\n",
    "    if holeLoc < (len(board)-sqrt(len(board))):\n",
    "        moveOrder.append('Down')\n",
    "    if holeLoc not in moveleft:\n",
    "        moveOrder.append('Left')\n",
    "    if holeLoc not in moveright:\n",
    "        moveOrder.append('Right')\n",
    "    return moveOrder"
   ]
  },
  {
   "cell_type": "code",
   "execution_count": 74,
   "metadata": {
    "collapsed": false
   },
   "outputs": [],
   "source": [
    "def frontieradd(node):\n",
    "    for i in possible_moves(node.state):\n",
    "        newnode = createnode((move(i, node.state)), node.state, node.operator + '%s,' %(i), node.depth+1, 0 )\n",
    "        if tuple(newnode.state) not in explored:\n",
    "            explored.add(tuple(newnode.state))\n",
    "            frontier.append(newnode)\n",
    "    return frontier"
   ]
  },
  {
   "cell_type": "code",
   "execution_count": 35,
   "metadata": {
    "collapsed": false
   },
   "outputs": [],
   "source": [
    "def reversefrontieradd(currentstate):\n",
    "    for i in reversed(possible_moves(currentstate.state)):\n",
    "        node = createnode((move(i, currentstate.state)), currentstate.state, currentstate.operator + '%s,' %(i), currentstate.depth+1, 0 )\n",
    "        if tuple(node.state) not in explored:\n",
    "            frontier.append(node)\n",
    "            explored.add(tuple(node.state))\n",
    "    return frontier"
   ]
  },
  {
   "cell_type": "code",
   "execution_count": 82,
   "metadata": {
    "collapsed": false
   },
   "outputs": [],
   "source": [
    "def bfs(initialstate):\n",
    "    god_node = createnode(initialstate, 'none', '', 0, 0)\n",
    "    explored.add(tuple(god_node.state))\n",
    "    frontieradd(god_node)\n",
    "    while frontier != deque([]):\n",
    "        state = frontier.popleft()\n",
    "        #explored.add(tuple(state.state))\n",
    "        if goalTest(state.state) == 'Success':\n",
    "            finalpath = state.operator\n",
    "            finalpath = finalpath.split(\",\")\n",
    "            cost = len(finalpath)\n",
    "            finaldepth = state.depth\n",
    "            text_file = open(\"Output.txt\", \"w\")\n",
    "            text_file.write(\"path_to_goal: %r\" % (finalpath) + \"\\n\"\n",
    "                            \"cost_of_path: %r\" % cost + \"\\n\"\n",
    "                            \"search_depth: %r\" % finaldepth)\n",
    "            text_file.close()\n",
    "            return 'Success'\n",
    "        else:\n",
    "            frontieradd(state)\n",
    "    return 'fail'"
   ]
  },
  {
   "cell_type": "code",
   "execution_count": 10,
   "metadata": {
    "collapsed": false
   },
   "outputs": [
    {
     "data": {
      "text/plain": [
       "([0, 1, 2, 3, 4, 5, 6, 7, 8], 'Up, Left, Left, ', 3)"
      ]
     },
     "execution_count": 10,
     "metadata": {},
     "output_type": "execute_result"
    }
   ],
   "source": [
    "def dfs(initialState):\n",
    "    god_node = createnode(initialstate, 'none', '', 0, 0)\n",
    "    explored.add(tuple(god_node.state))\n",
    "    reversefrontieradd(god_node)\n",
    "    while frontier != deque([]):\n",
    "        state = frontier.pop()\n",
    "        explored.add(tuple(state.state))\n",
    "        if goalTest(state.state) == 'Success':\n",
    "            return state.state, state.operator, state.depth\n",
    "        else:\n",
    "            reversefrontieradd(state)\n",
    "    return 'fail'\n",
    "dfs(initialstate)"
   ]
  },
  {
   "cell_type": "code",
   "execution_count": null,
   "metadata": {
    "collapsed": true
   },
   "outputs": [],
   "source": [
    "def ast(initialState):\n",
    "    god_node = createnode(initialstate, 'none', '', 0, 0)\n",
    "    explored.add(tuple(god_node.state))"
   ]
  },
  {
   "cell_type": "code",
   "execution_count": null,
   "metadata": {
    "collapsed": false
   },
   "outputs": [],
   "source": [
    "# #END OF TEST\n",
    "# for i in frontier:\n",
    "#     if tuple(i) not in explored:\n",
    "#         print('true')\n",
    "#     else:\n",
    "#         print('false')"
   ]
  },
  {
   "cell_type": "code",
   "execution_count": 85,
   "metadata": {
    "collapsed": false
   },
   "outputs": [
    {
     "data": {
      "text/plain": [
       "72939"
      ]
     },
     "execution_count": 85,
     "metadata": {},
     "output_type": "execute_result"
    }
   ],
   "source": [
    "len(explored)"
   ]
  },
  {
   "cell_type": "code",
   "execution_count": 83,
   "metadata": {
    "collapsed": false
   },
   "outputs": [
    {
     "data": {
      "text/plain": [
       "'Success'"
      ]
     },
     "execution_count": 83,
     "metadata": {},
     "output_type": "execute_result"
    }
   ],
   "source": [
    "bfs(initialstate)"
   ]
  }
 ],
 "metadata": {
  "anaconda-cloud": {},
  "kernelspec": {
   "display_name": "Python 3",
   "language": "python",
   "name": "python3"
  },
  "language_info": {
   "codemirror_mode": {
    "name": "ipython",
    "version": 3
   },
   "file_extension": ".py",
   "mimetype": "text/x-python",
   "name": "python",
   "nbconvert_exporter": "python",
   "pygments_lexer": "ipython3",
   "version": "3.6.0"
  }
 },
 "nbformat": 4,
 "nbformat_minor": 1
}
